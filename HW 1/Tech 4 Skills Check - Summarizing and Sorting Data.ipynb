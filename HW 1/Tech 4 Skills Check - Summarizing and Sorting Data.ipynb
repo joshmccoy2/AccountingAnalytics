{
 "cells": [
  {
   "cell_type": "markdown",
   "metadata": {},
   "source": [
    "---\n",
    "# Skill Check\n",
    "---\n",
    "Please load the dataset \"Compustat_fy2019.csv\" and use the functions we learned in class to answer the following questions. You can run the code in below empty cells and fill the answers in the text box on Canvas. Please save and upload your notebook (the .ipynb file) to the Canvas assignment by attaching it in the text box.\n",
    "\n",
    "**1. What is the shape of the data frame? (Please indicate how many observations and variables there are.)**\n",
    "\n",
    "**2. What is the net income for 29th observation of \"Compustat_fy2019.csv\" (AMERICAN EXPRESS CO)?** \n",
    "\n",
    "**3. Among companies listed in NASDAQ, which company has the largest total equities according to the dataset?**  \n",
    "Note: companies listed in NASDAQ has an exchange code of 14.  \n",
    "(This data set includes companies listed in three exchanges. They are New York Stock Exchange (11), American Stock Exchange (12), NASDAQ (14).  \n",
    "\n",
    "**4. What's the index that Python has assigned to the observation for the company that you found in question 3?** \n"
   ]
  },
  {
   "cell_type": "markdown",
   "metadata": {},
   "source": [
    "#### Reference: Variable Definitions\n",
    "- The column names represent the measures in parentheses:\n",
    "    - tic (ticker symbol)\n",
    "    - conm (company name)\n",
    "    - datadate (fiscal year end)\n",
    "    - fyear (fiscal year)\n",
    "    - at (total assets)\n",
    "    - lt (total liabilities)\n",
    "    - teq (total equities)\n",
    "    - revt (revenue)\n",
    "    - ni (net income)\n",
    "    - exchg (numeric exchange code; 11 = New York Stock Exchange; 12 = American Stock Exchange; 14 = NASDAQ)"
   ]
  },
  {
   "cell_type": "code",
   "execution_count": 1,
   "metadata": {},
   "outputs": [],
   "source": [
    "import pandas as pd"
   ]
  },
  {
   "cell_type": "code",
   "execution_count": 3,
   "metadata": {},
   "outputs": [
    {
     "name": "stderr",
     "output_type": "stream",
     "text": [
      "/var/folders/x8/fqk_hz6j4x1f9s70rdmxj0d00000gn/T/ipykernel_73625/2995662502.py:1: UserWarning: Could not infer format, so each element will be parsed individually, falling back to `dateutil`. To ensure parsing is consistent and as-expected, please specify a format.\n",
      "  df = pd.read_csv(\"Compustat_fy2019.csv\", parse_dates = ['datadate'])\n"
     ]
    }
   ],
   "source": [
    "df = pd.read_csv(\"Compustat_fy2019.csv\", parse_dates = ['datadate'])"
   ]
  },
  {
   "cell_type": "code",
   "execution_count": null,
   "metadata": {},
   "outputs": [],
   "source": []
  },
  {
   "cell_type": "markdown",
   "metadata": {},
   "source": [
    "## 1. What is the shape of the data frame? (Please indicate how many observations and variables there are.)"
   ]
  },
  {
   "cell_type": "code",
   "execution_count": 7,
   "metadata": {},
   "outputs": [
    {
     "data": {
      "text/plain": [
       "(4727, 10)"
      ]
     },
     "execution_count": 7,
     "metadata": {},
     "output_type": "execute_result"
    }
   ],
   "source": [
    "df.shape"
   ]
  },
  {
   "cell_type": "markdown",
   "metadata": {},
   "source": [
    "## 2. What is the net income for 29th observation of \"Compustat_fy2019.csv\" (AMERICAN EXPRESS CO)?"
   ]
  },
  {
   "cell_type": "code",
   "execution_count": 19,
   "metadata": {},
   "outputs": [
    {
     "data": {
      "text/plain": [
       "tic                         AXP\n",
       "conm        AMERICAN EXPRESS CO\n",
       "datadate    2019-12-31 00:00:00\n",
       "fyear                      2019\n",
       "at                     198321.0\n",
       "lt                     175250.0\n",
       "teq                     23071.0\n",
       "revt                    47020.0\n",
       "ni                       6759.0\n",
       "exchg                        11\n",
       "Name: 28, dtype: object"
      ]
     },
     "execution_count": 19,
     "metadata": {},
     "output_type": "execute_result"
    }
   ],
   "source": [
    "df.iloc[28]"
   ]
  },
  {
   "cell_type": "markdown",
   "metadata": {},
   "source": [
    "The net income for AMEX is 6759"
   ]
  },
  {
   "cell_type": "markdown",
   "metadata": {},
   "source": [
    "## 3. Among companies listed in NASDAQ, which company has the largest total equities according to the dataset?"
   ]
  },
  {
   "cell_type": "code",
   "execution_count": 18,
   "metadata": {},
   "outputs": [
    {
     "data": {
      "text/html": [
       "<div>\n",
       "<style scoped>\n",
       "    .dataframe tbody tr th:only-of-type {\n",
       "        vertical-align: middle;\n",
       "    }\n",
       "\n",
       "    .dataframe tbody tr th {\n",
       "        vertical-align: top;\n",
       "    }\n",
       "\n",
       "    .dataframe thead th {\n",
       "        text-align: right;\n",
       "    }\n",
       "</style>\n",
       "<table border=\"1\" class=\"dataframe\">\n",
       "  <thead>\n",
       "    <tr style=\"text-align: right;\">\n",
       "      <th></th>\n",
       "      <th>tic</th>\n",
       "      <th>conm</th>\n",
       "      <th>datadate</th>\n",
       "      <th>fyear</th>\n",
       "      <th>at</th>\n",
       "      <th>lt</th>\n",
       "      <th>teq</th>\n",
       "      <th>revt</th>\n",
       "      <th>ni</th>\n",
       "      <th>exchg</th>\n",
       "    </tr>\n",
       "  </thead>\n",
       "  <tbody>\n",
       "    <tr>\n",
       "      <th>3819</th>\n",
       "      <td>GOOGL</td>\n",
       "      <td>ALPHABET INC</td>\n",
       "      <td>2019-12-31</td>\n",
       "      <td>2019</td>\n",
       "      <td>275909.000</td>\n",
       "      <td>74467.000</td>\n",
       "      <td>201442.000</td>\n",
       "      <td>161857.000</td>\n",
       "      <td>34343.000</td>\n",
       "      <td>14</td>\n",
       "    </tr>\n",
       "    <tr>\n",
       "      <th>745</th>\n",
       "      <td>MSFT</td>\n",
       "      <td>MICROSOFT CORP</td>\n",
       "      <td>2019-06-30</td>\n",
       "      <td>2019</td>\n",
       "      <td>286556.000</td>\n",
       "      <td>184226.000</td>\n",
       "      <td>102330.000</td>\n",
       "      <td>125843.000</td>\n",
       "      <td>39240.000</td>\n",
       "      <td>14</td>\n",
       "    </tr>\n",
       "    <tr>\n",
       "      <th>4025</th>\n",
       "      <td>FB</td>\n",
       "      <td>FACEBOOK INC</td>\n",
       "      <td>2019-12-31</td>\n",
       "      <td>2019</td>\n",
       "      <td>133376.000</td>\n",
       "      <td>32322.000</td>\n",
       "      <td>101054.000</td>\n",
       "      <td>70697.000</td>\n",
       "      <td>18485.000</td>\n",
       "      <td>14</td>\n",
       "    </tr>\n",
       "    <tr>\n",
       "      <th>45</th>\n",
       "      <td>AAPL</td>\n",
       "      <td>APPLE INC</td>\n",
       "      <td>2019-09-30</td>\n",
       "      <td>2019</td>\n",
       "      <td>338516.000</td>\n",
       "      <td>248028.000</td>\n",
       "      <td>90488.000</td>\n",
       "      <td>260174.000</td>\n",
       "      <td>55256.000</td>\n",
       "      <td>14</td>\n",
       "    </tr>\n",
       "    <tr>\n",
       "      <th>146</th>\n",
       "      <td>CMCSA</td>\n",
       "      <td>COMCAST CORP</td>\n",
       "      <td>2019-12-31</td>\n",
       "      <td>2019</td>\n",
       "      <td>263414.000</td>\n",
       "      <td>178168.000</td>\n",
       "      <td>83874.000</td>\n",
       "      <td>108942.000</td>\n",
       "      <td>13057.000</td>\n",
       "      <td>14</td>\n",
       "    </tr>\n",
       "    <tr>\n",
       "      <th>...</th>\n",
       "      <td>...</td>\n",
       "      <td>...</td>\n",
       "      <td>...</td>\n",
       "      <td>...</td>\n",
       "      <td>...</td>\n",
       "      <td>...</td>\n",
       "      <td>...</td>\n",
       "      <td>...</td>\n",
       "      <td>...</td>\n",
       "      <td>...</td>\n",
       "    </tr>\n",
       "    <tr>\n",
       "      <th>3327</th>\n",
       "      <td>VRSN</td>\n",
       "      <td>VERISIGN INC</td>\n",
       "      <td>2019-12-31</td>\n",
       "      <td>2019</td>\n",
       "      <td>1854.009</td>\n",
       "      <td>3344.109</td>\n",
       "      <td>-1490.100</td>\n",
       "      <td>1231.661</td>\n",
       "      <td>612.299</td>\n",
       "      <td>14</td>\n",
       "    </tr>\n",
       "    <tr>\n",
       "      <th>669</th>\n",
       "      <td>SGMS</td>\n",
       "      <td>SCIENTIFIC GAMES CORP</td>\n",
       "      <td>2019-12-31</td>\n",
       "      <td>2019</td>\n",
       "      <td>7809.000</td>\n",
       "      <td>9917.000</td>\n",
       "      <td>-2108.000</td>\n",
       "      <td>3400.000</td>\n",
       "      <td>-130.000</td>\n",
       "      <td>14</td>\n",
       "    </tr>\n",
       "    <tr>\n",
       "      <th>2905</th>\n",
       "      <td>PPD</td>\n",
       "      <td>PPD INC</td>\n",
       "      <td>2019-12-31</td>\n",
       "      <td>2019</td>\n",
       "      <td>5556.246</td>\n",
       "      <td>8224.358</td>\n",
       "      <td>-2698.148</td>\n",
       "      <td>4031.017</td>\n",
       "      <td>47.821</td>\n",
       "      <td>14</td>\n",
       "    </tr>\n",
       "    <tr>\n",
       "      <th>3495</th>\n",
       "      <td>SBAC</td>\n",
       "      <td>SBA COMMUNICATIONS CORP</td>\n",
       "      <td>2019-12-31</td>\n",
       "      <td>2019</td>\n",
       "      <td>9759.941</td>\n",
       "      <td>13410.896</td>\n",
       "      <td>-3667.007</td>\n",
       "      <td>2014.645</td>\n",
       "      <td>146.991</td>\n",
       "      <td>14</td>\n",
       "    </tr>\n",
       "    <tr>\n",
       "      <th>1758</th>\n",
       "      <td>SBUX</td>\n",
       "      <td>STARBUCKS CORP</td>\n",
       "      <td>2019-09-30</td>\n",
       "      <td>2019</td>\n",
       "      <td>19219.600</td>\n",
       "      <td>25450.600</td>\n",
       "      <td>-6231.000</td>\n",
       "      <td>26508.600</td>\n",
       "      <td>3599.200</td>\n",
       "      <td>14</td>\n",
       "    </tr>\n",
       "  </tbody>\n",
       "</table>\n",
       "<p>2673 rows × 10 columns</p>\n",
       "</div>"
      ],
      "text/plain": [
       "        tic                     conm   datadate  fyear          at  \\\n",
       "3819  GOOGL             ALPHABET INC 2019-12-31   2019  275909.000   \n",
       "745    MSFT           MICROSOFT CORP 2019-06-30   2019  286556.000   \n",
       "4025     FB             FACEBOOK INC 2019-12-31   2019  133376.000   \n",
       "45     AAPL                APPLE INC 2019-09-30   2019  338516.000   \n",
       "146   CMCSA             COMCAST CORP 2019-12-31   2019  263414.000   \n",
       "...     ...                      ...        ...    ...         ...   \n",
       "3327   VRSN             VERISIGN INC 2019-12-31   2019    1854.009   \n",
       "669    SGMS    SCIENTIFIC GAMES CORP 2019-12-31   2019    7809.000   \n",
       "2905    PPD                  PPD INC 2019-12-31   2019    5556.246   \n",
       "3495   SBAC  SBA COMMUNICATIONS CORP 2019-12-31   2019    9759.941   \n",
       "1758   SBUX           STARBUCKS CORP 2019-09-30   2019   19219.600   \n",
       "\n",
       "              lt         teq        revt         ni  exchg  \n",
       "3819   74467.000  201442.000  161857.000  34343.000     14  \n",
       "745   184226.000  102330.000  125843.000  39240.000     14  \n",
       "4025   32322.000  101054.000   70697.000  18485.000     14  \n",
       "45    248028.000   90488.000  260174.000  55256.000     14  \n",
       "146   178168.000   83874.000  108942.000  13057.000     14  \n",
       "...          ...         ...         ...        ...    ...  \n",
       "3327    3344.109   -1490.100    1231.661    612.299     14  \n",
       "669     9917.000   -2108.000    3400.000   -130.000     14  \n",
       "2905    8224.358   -2698.148    4031.017     47.821     14  \n",
       "3495   13410.896   -3667.007    2014.645    146.991     14  \n",
       "1758   25450.600   -6231.000   26508.600   3599.200     14  \n",
       "\n",
       "[2673 rows x 10 columns]"
      ]
     },
     "execution_count": 18,
     "metadata": {},
     "output_type": "execute_result"
    }
   ],
   "source": [
    "filtered_df = df[df['exchg'] == 14]\n",
    "sorted_df = filtered_df.sort_values(by='teq', ascending=False)\n",
    "sorted_df"
   ]
  },
  {
   "cell_type": "markdown",
   "metadata": {},
   "source": [
    "## 4. What's the index that Python has assigned to the observation for the company that you found in question 3?"
   ]
  },
  {
   "cell_type": "markdown",
   "metadata": {},
   "source": [
    "The answer is google which is at index 3819"
   ]
  },
  {
   "cell_type": "code",
   "execution_count": null,
   "metadata": {},
   "outputs": [],
   "source": []
  }
 ],
 "metadata": {
  "kernelspec": {
   "display_name": "Python 3 (ipykernel)",
   "language": "python",
   "name": "python3"
  },
  "language_info": {
   "codemirror_mode": {
    "name": "ipython",
    "version": 3
   },
   "file_extension": ".py",
   "mimetype": "text/x-python",
   "name": "python",
   "nbconvert_exporter": "python",
   "pygments_lexer": "ipython3",
   "version": "3.11.5"
  },
  "vscode": {
   "interpreter": {
    "hash": "de8ef6c1b05ccb732b5e043e1910d3a5de2ecb4b6ab8b2f3d0e289cc971fd320"
   }
  }
 },
 "nbformat": 4,
 "nbformat_minor": 2
}
