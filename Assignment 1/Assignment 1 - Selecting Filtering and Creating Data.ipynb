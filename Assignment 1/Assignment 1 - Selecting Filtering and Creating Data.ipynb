{
 "cells": [
  {
   "cell_type": "markdown",
   "metadata": {},
   "source": [
    "## Assignment 1: Python group project due on Wednesday Feb. 7th @ 8AM\n",
    "Use this notebook perform the following analyses using Python code and the **2018** compustat file. For the following questions, please write your answers to each question in the Canvas textbox. \n",
    "\n",
    "The code down below should support the answers you indicated; the code should be in an easy to follow format with comments to indicate what question you are trying to answer and what your code is accomplishing. You can also use MarkDown cells if you prefer that over commenting (you can read the tips on how to create markdown cells at the bottom of this file if you wish).\n",
    "\n",
    "After you finish the analyses, please **make sure every cell is executed and all the returning results are presented**. Then you can save the file and submit it to Canvas by uploading it to the textbox like our first in-class assignment. **Each group only has to submit one file but everyone should make sure they are able to write and run the code.**\n",
    "\n",
    "### Questions\n",
    "- 1. Describe the dataset, *Compustat_fy2018.csv*, specifically identify:\n",
    "    - How many observations are there? (1 point)\n",
    "    - How many variables are there? (1 point)\n",
    "    - What are the names of those variables? (1 point)\n",
    "\n",
    "- 2. Now for Q2 and Q3, we will be performing an analysis about General Motors Co. (GM) to see whether it outperformed its industry during 2018. First, we need to find the SIC industry code for General Motors Co. (tic == 'GM'). **What is the SIC industry code for GM?** (2 points)\n",
    "    \n",
    "- 3. (6 points) Since performance is a construct (i.e., a concept), we pick two common measures that capture performance: Return on Equity and Asset Turnover Ratio. Calculate these two measures using the definition below and answer: did GM outperform its industry **average** (mean) in fiscal year 2018 for each of the following two measures?\n",
    "    - Return on Equity, ROE: (net income /  total equity)\n",
    "    - Asset turnover ratio: (revenue / total assets)\n",
    "    \n",
    "    *hints:*\n",
    "    - *the only command we know so far that gives us an average is describe*\n",
    "    - *Once you find GM's industry code, how can we limit our dataframe to just companies with the same SIC code (including GM)? Then, how can we find the average of our new variables?*\n",
    "    - *You should include GM in the industry average.*\n",
    "\n",
    "**Remember to specify your answers in the textbox below and then upload your saved and executed Jupyter Notebook to the Canvas textbox to support your answers (14 points)**"
   ]
  },
  {
   "cell_type": "markdown",
   "metadata": {},
   "source": [
    "### Reference: Variable Definitions for the 2018 Compustat file\n",
    "Variable Definitions in the unaltered Compustat_fy2018.csv file:\n",
    "- tic (ticker symbol)\n",
    "- conm (company name)\n",
    "- datadate (fiscal year end)\n",
    "- fyear (fiscal year)\n",
    "- at (total assets)\n",
    "- lt (total liabilities)\n",
    "- teq (total equities)\n",
    "- revt (revenue)\n",
    "- ni (net income)\n",
    "- exchg (numeric exchange code; 11 = New York Stock Exchange; 12 = American Stock Exchange; 14 = NASDAQ)\n",
    "- sic (Industry classification code)"
   ]
  },
  {
   "cell_type": "code",
   "execution_count": null,
   "metadata": {},
   "outputs": [],
   "source": []
  },
  {
   "cell_type": "code",
   "execution_count": null,
   "metadata": {},
   "outputs": [],
   "source": []
  },
  {
   "cell_type": "code",
   "execution_count": null,
   "metadata": {},
   "outputs": [],
   "source": []
  },
  {
   "cell_type": "code",
   "execution_count": null,
   "metadata": {},
   "outputs": [],
   "source": []
  },
  {
   "cell_type": "code",
   "execution_count": null,
   "metadata": {},
   "outputs": [],
   "source": []
  },
  {
   "cell_type": "code",
   "execution_count": null,
   "metadata": {},
   "outputs": [],
   "source": []
  },
  {
   "cell_type": "code",
   "execution_count": null,
   "metadata": {},
   "outputs": [],
   "source": []
  },
  {
   "cell_type": "code",
   "execution_count": null,
   "metadata": {},
   "outputs": [],
   "source": []
  },
  {
   "cell_type": "code",
   "execution_count": null,
   "metadata": {},
   "outputs": [],
   "source": []
  },
  {
   "cell_type": "code",
   "execution_count": null,
   "metadata": {},
   "outputs": [],
   "source": []
  },
  {
   "cell_type": "markdown",
   "metadata": {},
   "source": [
    "### Tips: \n",
    "### How to create and write in Markdown cells\n",
    "- Create a new cell by clicking on the plus icon in the menu (second icon next to the \"save\" one).\n",
    "- Select \"Markdown\" instead of \"Code\" in the drop-down menu next to the last icon (a small keyboard).\n",
    "- You can type any of your explanatory texts in the markdown cells. After you finish typing, you can run the cell to have the texts presented.\n",
    "- Markdown is a lightweight coding language that you can use to create rich texts with different formats and sizes. If you want to know the basic language structure, you can go to this [website](https://commonmark.org/help/).\n",
    "\n",
    "### Command keyboard shortcuts\n",
    "- There are keyboard shortcuts for major commands, such as creating a new cell, entering the edit mode, and running the cell. You can check those shortcuts by clicking on the small keyboard icon on the far right of the menu."
   ]
  }
 ],
 "metadata": {
  "kernelspec": {
   "display_name": "Python 3 (ipykernel)",
   "language": "python",
   "name": "python3"
  },
  "language_info": {
   "codemirror_mode": {
    "name": "ipython",
    "version": 3
   },
   "file_extension": ".py",
   "mimetype": "text/x-python",
   "name": "python",
   "nbconvert_exporter": "python",
   "pygments_lexer": "ipython3",
   "version": "3.9.13"
  },
  "vscode": {
   "interpreter": {
    "hash": "ad2bdc8ecc057115af97d19610ffacc2b4e99fae6737bb82f5d7fb13d2f2c186"
   }
  }
 },
 "nbformat": 4,
 "nbformat_minor": 2
}
