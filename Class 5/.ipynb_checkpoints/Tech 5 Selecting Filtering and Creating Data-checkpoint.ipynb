{
 "cells": [
  {
   "cell_type": "markdown",
   "metadata": {},
   "source": [
    "# Tech #5 Selecting, Filtering, and Creating Data"
   ]
  },
  {
   "cell_type": "markdown",
   "metadata": {},
   "source": [
    "- This file illustrates how to select, filter, and create data."
   ]
  },
  {
   "cell_type": "markdown",
   "metadata": {},
   "source": [
    "**Import pandas package**"
   ]
  },
  {
   "cell_type": "code",
   "execution_count": 1,
   "metadata": {},
   "outputs": [],
   "source": [
    "import pandas as pd"
   ]
  },
  {
   "cell_type": "markdown",
   "metadata": {},
   "source": [
    "**Load the dataset**"
   ]
  },
  {
   "cell_type": "code",
   "execution_count": 2,
   "metadata": {},
   "outputs": [
    {
     "name": "stderr",
     "output_type": "stream",
     "text": [
      "/var/folders/x8/fqk_hz6j4x1f9s70rdmxj0d00000gn/T/ipykernel_92006/4135465303.py:1: UserWarning: Could not infer format, so each element will be parsed individually, falling back to `dateutil`. To ensure parsing is consistent and as-expected, please specify a format.\n",
      "  df19 = pd.read_csv('Compustat_fy2019.csv', parse_dates = ['datadate'])\n"
     ]
    }
   ],
   "source": [
    "df19 = pd.read_csv('Compustat_fy2019.csv', parse_dates = ['datadate'])"
   ]
  },
  {
   "cell_type": "markdown",
   "metadata": {},
   "source": [
    "**Navigate the dataset**"
   ]
  },
  {
   "cell_type": "code",
   "execution_count": 3,
   "metadata": {},
   "outputs": [
    {
     "data": {
      "text/html": [
       "<div>\n",
       "<style scoped>\n",
       "    .dataframe tbody tr th:only-of-type {\n",
       "        vertical-align: middle;\n",
       "    }\n",
       "\n",
       "    .dataframe tbody tr th {\n",
       "        vertical-align: top;\n",
       "    }\n",
       "\n",
       "    .dataframe thead th {\n",
       "        text-align: right;\n",
       "    }\n",
       "</style>\n",
       "<table border=\"1\" class=\"dataframe\">\n",
       "  <thead>\n",
       "    <tr style=\"text-align: right;\">\n",
       "      <th></th>\n",
       "      <th>tic</th>\n",
       "      <th>conm</th>\n",
       "      <th>datadate</th>\n",
       "      <th>fyear</th>\n",
       "      <th>at</th>\n",
       "      <th>lt</th>\n",
       "      <th>teq</th>\n",
       "      <th>revt</th>\n",
       "      <th>ni</th>\n",
       "      <th>exchg</th>\n",
       "    </tr>\n",
       "  </thead>\n",
       "  <tbody>\n",
       "    <tr>\n",
       "      <th>0</th>\n",
       "      <td>AIR</td>\n",
       "      <td>AAR CORP</td>\n",
       "      <td>2020-05-31</td>\n",
       "      <td>2019</td>\n",
       "      <td>2079.000</td>\n",
       "      <td>1176.400</td>\n",
       "      <td>902.600</td>\n",
       "      <td>2089.300</td>\n",
       "      <td>4.400</td>\n",
       "      <td>11</td>\n",
       "    </tr>\n",
       "    <tr>\n",
       "      <th>1</th>\n",
       "      <td>AAL</td>\n",
       "      <td>AMERICAN AIRLINES GROUP INC</td>\n",
       "      <td>2019-12-31</td>\n",
       "      <td>2019</td>\n",
       "      <td>59995.000</td>\n",
       "      <td>60113.000</td>\n",
       "      <td>-118.000</td>\n",
       "      <td>45768.000</td>\n",
       "      <td>1686.000</td>\n",
       "      <td>14</td>\n",
       "    </tr>\n",
       "    <tr>\n",
       "      <th>2</th>\n",
       "      <td>CECE</td>\n",
       "      <td>CECO ENVIRONMENTAL CORP</td>\n",
       "      <td>2019-12-31</td>\n",
       "      <td>2019</td>\n",
       "      <td>408.637</td>\n",
       "      <td>215.620</td>\n",
       "      <td>193.017</td>\n",
       "      <td>341.869</td>\n",
       "      <td>17.707</td>\n",
       "      <td>14</td>\n",
       "    </tr>\n",
       "    <tr>\n",
       "      <th>3</th>\n",
       "      <td>ASA</td>\n",
       "      <td>ASA GOLD AND PRECIOUS METALS</td>\n",
       "      <td>2019-11-30</td>\n",
       "      <td>2019</td>\n",
       "      <td>286.612</td>\n",
       "      <td>0.733</td>\n",
       "      <td>285.879</td>\n",
       "      <td>2.371</td>\n",
       "      <td>91.431</td>\n",
       "      <td>11</td>\n",
       "    </tr>\n",
       "    <tr>\n",
       "      <th>4</th>\n",
       "      <td>PNW</td>\n",
       "      <td>PINNACLE WEST CAPITAL CORP</td>\n",
       "      <td>2019-12-31</td>\n",
       "      <td>2019</td>\n",
       "      <td>18479.247</td>\n",
       "      <td>12926.059</td>\n",
       "      <td>5553.188</td>\n",
       "      <td>3471.209</td>\n",
       "      <td>538.320</td>\n",
       "      <td>11</td>\n",
       "    </tr>\n",
       "  </tbody>\n",
       "</table>\n",
       "</div>"
      ],
      "text/plain": [
       "    tic                          conm   datadate  fyear         at         lt  \\\n",
       "0   AIR                      AAR CORP 2020-05-31   2019   2079.000   1176.400   \n",
       "1   AAL   AMERICAN AIRLINES GROUP INC 2019-12-31   2019  59995.000  60113.000   \n",
       "2  CECE       CECO ENVIRONMENTAL CORP 2019-12-31   2019    408.637    215.620   \n",
       "3   ASA  ASA GOLD AND PRECIOUS METALS 2019-11-30   2019    286.612      0.733   \n",
       "4   PNW    PINNACLE WEST CAPITAL CORP 2019-12-31   2019  18479.247  12926.059   \n",
       "\n",
       "        teq       revt        ni  exchg  \n",
       "0   902.600   2089.300     4.400     11  \n",
       "1  -118.000  45768.000  1686.000     14  \n",
       "2   193.017    341.869    17.707     14  \n",
       "3   285.879      2.371    91.431     11  \n",
       "4  5553.188   3471.209   538.320     11  "
      ]
     },
     "execution_count": 3,
     "metadata": {},
     "output_type": "execute_result"
    }
   ],
   "source": [
    "df19.head()"
   ]
  },
  {
   "cell_type": "markdown",
   "metadata": {},
   "source": [
    "---\n",
    "## Selecting Data"
   ]
  },
  {
   "cell_type": "markdown",
   "metadata": {},
   "source": [
    "### Selecting one variable (column)\n",
    "```Python\n",
    "df19['at']\n",
    "```\n",
    "- Specify the variable name with quotes around it in the brackets."
   ]
  },
  {
   "cell_type": "code",
   "execution_count": 5,
   "metadata": {},
   "outputs": [
    {
     "data": {
      "text/plain": [
       "0        1176.400\n",
       "1       60113.000\n",
       "2         215.620\n",
       "3           0.733\n",
       "4       12926.059\n",
       "          ...    \n",
       "4722        1.149\n",
       "4723       17.217\n",
       "4724        7.592\n",
       "4725       10.858\n",
       "4726      149.781\n",
       "Name: lt, Length: 4727, dtype: float64"
      ]
     },
     "execution_count": 5,
     "metadata": {},
     "output_type": "execute_result"
    }
   ],
   "source": [
    "df19['lt']"
   ]
  },
  {
   "cell_type": "markdown",
   "metadata": {},
   "source": [
    "### Selecting multiple variables (columns)\n",
    "```Python\n",
    "df19[['conm','at']]\n",
    "```\n",
    "- Specify a list of variable names (using brackets) in the brackets."
   ]
  },
  {
   "cell_type": "code",
   "execution_count": 7,
   "metadata": {},
   "outputs": [
    {
     "data": {
      "text/html": [
       "<div>\n",
       "<style scoped>\n",
       "    .dataframe tbody tr th:only-of-type {\n",
       "        vertical-align: middle;\n",
       "    }\n",
       "\n",
       "    .dataframe tbody tr th {\n",
       "        vertical-align: top;\n",
       "    }\n",
       "\n",
       "    .dataframe thead th {\n",
       "        text-align: right;\n",
       "    }\n",
       "</style>\n",
       "<table border=\"1\" class=\"dataframe\">\n",
       "  <thead>\n",
       "    <tr style=\"text-align: right;\">\n",
       "      <th></th>\n",
       "      <th>conm</th>\n",
       "      <th>lt</th>\n",
       "    </tr>\n",
       "  </thead>\n",
       "  <tbody>\n",
       "    <tr>\n",
       "      <th>0</th>\n",
       "      <td>AAR CORP</td>\n",
       "      <td>1176.400</td>\n",
       "    </tr>\n",
       "    <tr>\n",
       "      <th>1</th>\n",
       "      <td>AMERICAN AIRLINES GROUP INC</td>\n",
       "      <td>60113.000</td>\n",
       "    </tr>\n",
       "    <tr>\n",
       "      <th>2</th>\n",
       "      <td>CECO ENVIRONMENTAL CORP</td>\n",
       "      <td>215.620</td>\n",
       "    </tr>\n",
       "    <tr>\n",
       "      <th>3</th>\n",
       "      <td>ASA GOLD AND PRECIOUS METALS</td>\n",
       "      <td>0.733</td>\n",
       "    </tr>\n",
       "    <tr>\n",
       "      <th>4</th>\n",
       "      <td>PINNACLE WEST CAPITAL CORP</td>\n",
       "      <td>12926.059</td>\n",
       "    </tr>\n",
       "    <tr>\n",
       "      <th>...</th>\n",
       "      <td>...</td>\n",
       "      <td>...</td>\n",
       "    </tr>\n",
       "    <tr>\n",
       "      <th>4722</th>\n",
       "      <td>RENALYTIX AI PLC</td>\n",
       "      <td>1.149</td>\n",
       "    </tr>\n",
       "    <tr>\n",
       "      <th>4723</th>\n",
       "      <td>CASTOR MARITIME INC</td>\n",
       "      <td>17.217</td>\n",
       "    </tr>\n",
       "    <tr>\n",
       "      <th>4724</th>\n",
       "      <td>IMMUNIC INC</td>\n",
       "      <td>7.592</td>\n",
       "    </tr>\n",
       "    <tr>\n",
       "      <th>4725</th>\n",
       "      <td>ARMATA PHARMACEUTICALS INC</td>\n",
       "      <td>10.858</td>\n",
       "    </tr>\n",
       "    <tr>\n",
       "      <th>4726</th>\n",
       "      <td>HERMITAGE OFFSHORE SERVICES</td>\n",
       "      <td>149.781</td>\n",
       "    </tr>\n",
       "  </tbody>\n",
       "</table>\n",
       "<p>4727 rows × 2 columns</p>\n",
       "</div>"
      ],
      "text/plain": [
       "                              conm         lt\n",
       "0                         AAR CORP   1176.400\n",
       "1      AMERICAN AIRLINES GROUP INC  60113.000\n",
       "2          CECO ENVIRONMENTAL CORP    215.620\n",
       "3     ASA GOLD AND PRECIOUS METALS      0.733\n",
       "4       PINNACLE WEST CAPITAL CORP  12926.059\n",
       "...                            ...        ...\n",
       "4722              RENALYTIX AI PLC      1.149\n",
       "4723           CASTOR MARITIME INC     17.217\n",
       "4724                   IMMUNIC INC      7.592\n",
       "4725    ARMATA PHARMACEUTICALS INC     10.858\n",
       "4726   HERMITAGE OFFSHORE SERVICES    149.781\n",
       "\n",
       "[4727 rows x 2 columns]"
      ]
     },
     "execution_count": 7,
     "metadata": {},
     "output_type": "execute_result"
    }
   ],
   "source": [
    "df19[['conm','lt']]"
   ]
  },
  {
   "cell_type": "markdown",
   "metadata": {},
   "source": [
    "**Note: These steps are executed only to give you the results temporarily. They are not performed on the df19 dataset at all.**\n",
    "The results are displayed and Python immediately forgets them. If you want to save what you select as a new dataframe, you should assign it a new reference name using the code below:\n",
    "\n",
    "### Subsetting your dataframe and saving that as a new dataframe\n",
    "```Python\n",
    "df19_1 = df19[['conm','at']].copy(deep=True)\n",
    "```\n",
    "The name you pick should be different; a good idea is to create a new number and increase it by one. If you save it to the same name, you overwrite your initial dataframe."
   ]
  },
  {
   "cell_type": "code",
   "execution_count": null,
   "metadata": {},
   "outputs": [],
   "source": []
  },
  {
   "cell_type": "code",
   "execution_count": null,
   "metadata": {},
   "outputs": [],
   "source": []
  },
  {
   "cell_type": "markdown",
   "metadata": {},
   "source": [
    "### Selecting observations (rows)\n",
    "```Python\n",
    "df19[0:10]\n",
    "```\n",
    "- Selecting from the first observation to the tenth observation. This uses the INDEX (starts at 0).\n",
    "- `df[a:b]` will give you observations with index between a and **b-1**.\n",
    "- If you don't specify the number, the default is either zero in position `a` or the largest index in postion `b`. So `df[0:10]` is equivalent to `df[:10]`."
   ]
  },
  {
   "cell_type": "code",
   "execution_count": null,
   "metadata": {},
   "outputs": [],
   "source": []
  },
  {
   "cell_type": "markdown",
   "metadata": {},
   "source": [
    "### Selecting both observations and variables at the same time\n",
    "```Python\n",
    "df19[0:10][['conm','at']]\n",
    "```"
   ]
  },
  {
   "cell_type": "code",
   "execution_count": null,
   "metadata": {},
   "outputs": [],
   "source": []
  },
  {
   "cell_type": "markdown",
   "metadata": {},
   "source": [
    "---\n",
    "## Filtering Data"
   ]
  },
  {
   "cell_type": "markdown",
   "metadata": {},
   "source": [
    "### Filtering data on one condition\n",
    "```Python\n",
    "df19[df19['exchg']==14]\n",
    "```\n",
    "- Selecting companies that are listed in NASDAQ by specifying the corresponding condition (i.e., `df['exchg']==14`) in the brackets.\n",
    "- Python comparison operators\n",
    "    - Equal (==)\n",
    "    - Not equal (!= or <>)\n",
    "    - Greater (>)\n",
    "    - Greater or equal (>=)\n",
    "    - Smaller (<)\n",
    "    - Smaller or equal (<=)"
   ]
  },
  {
   "cell_type": "code",
   "execution_count": null,
   "metadata": {},
   "outputs": [],
   "source": []
  },
  {
   "cell_type": "markdown",
   "metadata": {},
   "source": [
    "### Reminder: if you want to save your filtered dataframe to new separate dataframe, you should use:\n",
    "```Python\n",
    "df19_NASDAQ = df19[df19['exchg']==14].copy(deep=True)\n",
    "```"
   ]
  },
  {
   "cell_type": "code",
   "execution_count": null,
   "metadata": {},
   "outputs": [],
   "source": []
  },
  {
   "cell_type": "code",
   "execution_count": null,
   "metadata": {},
   "outputs": [],
   "source": []
  },
  {
   "cell_type": "markdown",
   "metadata": {},
   "source": [
    "### Filtering data on multiple conditions\n",
    "```Python\n",
    "df19[(df19['exchg']==14) & (df19['at']>=5000)]\n",
    "```\n",
    "- Selecting companies that are listed in NASDAQ and have at least 5 billion total equities.\n",
    "- You need to put parentheses around each condition, and then connect these conditions with bitwise operators. \n",
    "- Python bitwise operators\n",
    "    - And (&)\n",
    "    - Or ( | )"
   ]
  },
  {
   "cell_type": "code",
   "execution_count": null,
   "metadata": {},
   "outputs": [],
   "source": []
  },
  {
   "cell_type": "markdown",
   "metadata": {},
   "source": [
    "- You can also write a new code to specify the condition separately and then refer to it in the function\n",
    "```Python\n",
    "condition = (df19['exchg']==14) & (df19['at']>=5000)\n",
    "df19[condition]\n",
    "```\n"
   ]
  },
  {
   "cell_type": "code",
   "execution_count": null,
   "metadata": {},
   "outputs": [],
   "source": []
  },
  {
   "cell_type": "markdown",
   "metadata": {},
   "source": [
    "---\n",
    "## Creating Data"
   ]
  },
  {
   "cell_type": "markdown",
   "metadata": {},
   "source": [
    "### Creating a new variable\n",
    "```Python\n",
    "df19['roa'] = df19['ni'] / df19['at']\n",
    "```\n",
    "- Creating a new variable called roa by dividing net incomes with total assets.\n",
    "- Reminder: if you have filtered or subsetted your dataframe, you must use the new dataframe references (names) all throughout this equation."
   ]
  },
  {
   "cell_type": "code",
   "execution_count": null,
   "metadata": {},
   "outputs": [],
   "source": []
  }
 ],
 "metadata": {
  "kernelspec": {
   "display_name": "Python 3 (ipykernel)",
   "language": "python",
   "name": "python3"
  },
  "language_info": {
   "codemirror_mode": {
    "name": "ipython",
    "version": 3
   },
   "file_extension": ".py",
   "mimetype": "text/x-python",
   "name": "python",
   "nbconvert_exporter": "python",
   "pygments_lexer": "ipython3",
   "version": "3.11.5"
  },
  "vscode": {
   "interpreter": {
    "hash": "ad2bdc8ecc057115af97d19610ffacc2b4e99fae6737bb82f5d7fb13d2f2c186"
   }
  }
 },
 "nbformat": 4,
 "nbformat_minor": 2
}
