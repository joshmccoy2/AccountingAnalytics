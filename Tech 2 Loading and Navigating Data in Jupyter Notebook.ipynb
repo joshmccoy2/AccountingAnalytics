{
 "cells": [
  {
   "cell_type": "markdown",
   "metadata": {},
   "source": [
    "# Jupyter Notebook Introduction\n",
    "## What is Jupyter Notebook?\n",
    "- Jupyter Notebook is an interactive browser application where you can combine code, outputs from the code, data visualizations, and explanatory into a single document (like the file you are reading now).\n",
    "- Jupyter Notebook allows you to run Python in the browser. The browser only provides an interactive surface for you to type in the code. The code you type in is executed by the local python program in your computer. So you don't need Internet access to open and run a Jupyter Notebook file.\n",
    "- A notebook typically contain multiple cells, in which you can type in your Python code. You then run the cell to execute the code. Any results from the code will show up below the cell.  \n",
    "\n",
    "## Complete the Following Task\n",
    "- This file illustrates how to load a dataset and then navigate that dataset through Jupyter Notebook.\n",
    "- Please follow the instruction on top of each empty cell and type the code in that empty cell. You can then execute the cell by putting your cursor in it and click \"Run\""
   ]
  },
  {
   "cell_type": "markdown",
   "metadata": {},
   "source": [
    "## Step 1: Import pandas package\n",
    "---\n",
    "```Python\n",
    "import <packagename> as <shortname>\n",
    "```\n",
    "---\n",
    "- We need to import `pandas` for us to load the dataset.\n",
    "- `pandas` is a library written for the Python programming language for data manipulation and analysis.\n",
    "- You can think of Python as your mobile phone operating system, and `pandas` as an app installed in your phone that lets you do more with your phone. However, you will need to open the app before you can do any task (data analysis). This is called importing a package.\n",
    "- `import pandas as pd` means we `import` `pandas` and name it as `pd` for easy reference afterwards. You can use any shortname you'd like or none at all, but it makes it easier to reference in later code."
   ]
  },
  {
   "cell_type": "code",
   "execution_count": 14,
   "metadata": {},
   "outputs": [],
   "source": [
    "import pandas as pd\n",
    "import matplotlib as plt"
   ]
  },
  {
   "cell_type": "markdown",
   "metadata": {},
   "source": [
    "## Step 2: Load the dataset\n",
    "---\n",
    "```Python\n",
    "df = pd.read_csv(<filelocation>)\n",
    "```\n",
    "---\n",
    "- First, make sure you saved the dataset `Compustat_fy2019.csv` along with the notebook file in the same local folder (the one with your last name). \n",
    "- We use the function `read_csv` contained in the `pd` package to open this dataset. In the code, we can refer to this function using `pd.read_csv()`; which you can think of as telling Python \"use the `read_csv` function found in the `pd` package\". In this sense, you can think of the dot `.` after `pd` as telling Python to look for the functions within the pandas *app*.\n",
    "- In the parantheses of `pd.read_csv()`, we can specify related parameters. In this example, we need to point Python to the dataset that is stored in the default directory, i.e., `'compustat_fy2019.csv'` (remember we need to put quotes around a string).\n",
    "- Lastly, we need to tell Python to store the dataset in memory by giving it a name. We name the dataset `df` in this example, or some variation of that. `df` is short for \"`d`ata `f`rame\" (you can also name it anything you want). If you do not name it (in other words, you don't use the equal sign), then Python will not remember it!"
   ]
  },
  {
   "cell_type": "code",
   "execution_count": 15,
   "metadata": {},
   "outputs": [],
   "source": [
    "df = pd.read_csv('compustat_fy2019.csv')"
   ]
  },
  {
   "cell_type": "markdown",
   "metadata": {},
   "source": [
    "## Step 3: Navigate the dataset\n",
    "---\n",
    "```Python\n",
    "df.head(<n>)\n",
    "```\n",
    "---\n",
    "- We can have python return the first *n* rows in the loaded dataset using `df.head(n)`. Again think of `head(n)` as a function applied to the dataframe.\n",
    "- Columns contain variables\n",
    "    - tic (ticker)\n",
    "    - conm (company name)\n",
    "    - datadate (fiscal year end)\n",
    "    - fyear (fiscal year)\n",
    "    - at (total assets)\n",
    "    - lt (total liabilities)\n",
    "    - teq (total equities)\n",
    "    - revt (revenue)\n",
    "    - ni (net income)\n",
    "    - exchg (exchange code; 11 New York Stock Exchange; 12 American Stock Exchange; 14 NASDAQ)\n",
    "- Rows represent companies"
   ]
  },
  {
   "cell_type": "code",
   "execution_count": 18,
   "metadata": {
    "scrolled": true
   },
   "outputs": [
    {
     "data": {
      "text/html": [
       "<div>\n",
       "<style scoped>\n",
       "    .dataframe tbody tr th:only-of-type {\n",
       "        vertical-align: middle;\n",
       "    }\n",
       "\n",
       "    .dataframe tbody tr th {\n",
       "        vertical-align: top;\n",
       "    }\n",
       "\n",
       "    .dataframe thead th {\n",
       "        text-align: right;\n",
       "    }\n",
       "</style>\n",
       "<table border=\"1\" class=\"dataframe\">\n",
       "  <thead>\n",
       "    <tr style=\"text-align: right;\">\n",
       "      <th></th>\n",
       "      <th>tic</th>\n",
       "      <th>conm</th>\n",
       "      <th>datadate</th>\n",
       "      <th>fyear</th>\n",
       "      <th>at</th>\n",
       "      <th>lt</th>\n",
       "      <th>teq</th>\n",
       "      <th>revt</th>\n",
       "      <th>ni</th>\n",
       "      <th>exchg</th>\n",
       "    </tr>\n",
       "  </thead>\n",
       "  <tbody>\n",
       "    <tr>\n",
       "      <th>0</th>\n",
       "      <td>AIR</td>\n",
       "      <td>AAR CORP</td>\n",
       "      <td>31MAY2020</td>\n",
       "      <td>2019</td>\n",
       "      <td>2079.000</td>\n",
       "      <td>1176.400</td>\n",
       "      <td>902.600</td>\n",
       "      <td>2089.300</td>\n",
       "      <td>4.400</td>\n",
       "      <td>11</td>\n",
       "    </tr>\n",
       "    <tr>\n",
       "      <th>1</th>\n",
       "      <td>AAL</td>\n",
       "      <td>AMERICAN AIRLINES GROUP INC</td>\n",
       "      <td>31DEC2019</td>\n",
       "      <td>2019</td>\n",
       "      <td>59995.000</td>\n",
       "      <td>60113.000</td>\n",
       "      <td>-118.000</td>\n",
       "      <td>45768.000</td>\n",
       "      <td>1686.000</td>\n",
       "      <td>14</td>\n",
       "    </tr>\n",
       "    <tr>\n",
       "      <th>2</th>\n",
       "      <td>CECE</td>\n",
       "      <td>CECO ENVIRONMENTAL CORP</td>\n",
       "      <td>31DEC2019</td>\n",
       "      <td>2019</td>\n",
       "      <td>408.637</td>\n",
       "      <td>215.620</td>\n",
       "      <td>193.017</td>\n",
       "      <td>341.869</td>\n",
       "      <td>17.707</td>\n",
       "      <td>14</td>\n",
       "    </tr>\n",
       "    <tr>\n",
       "      <th>3</th>\n",
       "      <td>ASA</td>\n",
       "      <td>ASA GOLD AND PRECIOUS METALS</td>\n",
       "      <td>30NOV2019</td>\n",
       "      <td>2019</td>\n",
       "      <td>286.612</td>\n",
       "      <td>0.733</td>\n",
       "      <td>285.879</td>\n",
       "      <td>2.371</td>\n",
       "      <td>91.431</td>\n",
       "      <td>11</td>\n",
       "    </tr>\n",
       "    <tr>\n",
       "      <th>4</th>\n",
       "      <td>PNW</td>\n",
       "      <td>PINNACLE WEST CAPITAL CORP</td>\n",
       "      <td>31DEC2019</td>\n",
       "      <td>2019</td>\n",
       "      <td>18479.247</td>\n",
       "      <td>12926.059</td>\n",
       "      <td>5553.188</td>\n",
       "      <td>3471.209</td>\n",
       "      <td>538.320</td>\n",
       "      <td>11</td>\n",
       "    </tr>\n",
       "    <tr>\n",
       "      <th>5</th>\n",
       "      <td>AAN</td>\n",
       "      <td>AARON'S INC</td>\n",
       "      <td>31DEC2019</td>\n",
       "      <td>2019</td>\n",
       "      <td>3297.800</td>\n",
       "      <td>1560.541</td>\n",
       "      <td>1737.259</td>\n",
       "      <td>3947.656</td>\n",
       "      <td>31.472</td>\n",
       "      <td>11</td>\n",
       "    </tr>\n",
       "    <tr>\n",
       "      <th>6</th>\n",
       "      <td>ABT</td>\n",
       "      <td>ABBOTT LABORATORIES</td>\n",
       "      <td>31DEC2019</td>\n",
       "      <td>2019</td>\n",
       "      <td>67887.000</td>\n",
       "      <td>36586.000</td>\n",
       "      <td>31301.000</td>\n",
       "      <td>31904.000</td>\n",
       "      <td>3687.000</td>\n",
       "      <td>11</td>\n",
       "    </tr>\n",
       "    <tr>\n",
       "      <th>7</th>\n",
       "      <td>ACU</td>\n",
       "      <td>ACME UNITED CORP</td>\n",
       "      <td>31DEC2019</td>\n",
       "      <td>2019</td>\n",
       "      <td>110.749</td>\n",
       "      <td>55.044</td>\n",
       "      <td>55.705</td>\n",
       "      <td>142.457</td>\n",
       "      <td>5.514</td>\n",
       "      <td>12</td>\n",
       "    </tr>\n",
       "    <tr>\n",
       "      <th>8</th>\n",
       "      <td>BKTI</td>\n",
       "      <td>BK TECHNOLOGIES CORP</td>\n",
       "      <td>31DEC2019</td>\n",
       "      <td>2019</td>\n",
       "      <td>37.940</td>\n",
       "      <td>14.664</td>\n",
       "      <td>23.276</td>\n",
       "      <td>40.100</td>\n",
       "      <td>-2.636</td>\n",
       "      <td>12</td>\n",
       "    </tr>\n",
       "    <tr>\n",
       "      <th>9</th>\n",
       "      <td>AE</td>\n",
       "      <td>ADAMS RESOURCES &amp; ENERGY INC</td>\n",
       "      <td>31DEC2019</td>\n",
       "      <td>2019</td>\n",
       "      <td>330.842</td>\n",
       "      <td>179.201</td>\n",
       "      <td>151.641</td>\n",
       "      <td>1811.247</td>\n",
       "      <td>8.207</td>\n",
       "      <td>12</td>\n",
       "    </tr>\n",
       "  </tbody>\n",
       "</table>\n",
       "</div>"
      ],
      "text/plain": [
       "    tic                          conm   datadate  fyear         at         lt  \\\n",
       "0   AIR                      AAR CORP  31MAY2020   2019   2079.000   1176.400   \n",
       "1   AAL   AMERICAN AIRLINES GROUP INC  31DEC2019   2019  59995.000  60113.000   \n",
       "2  CECE       CECO ENVIRONMENTAL CORP  31DEC2019   2019    408.637    215.620   \n",
       "3   ASA  ASA GOLD AND PRECIOUS METALS  30NOV2019   2019    286.612      0.733   \n",
       "4   PNW    PINNACLE WEST CAPITAL CORP  31DEC2019   2019  18479.247  12926.059   \n",
       "5   AAN                   AARON'S INC  31DEC2019   2019   3297.800   1560.541   \n",
       "6   ABT           ABBOTT LABORATORIES  31DEC2019   2019  67887.000  36586.000   \n",
       "7   ACU              ACME UNITED CORP  31DEC2019   2019    110.749     55.044   \n",
       "8  BKTI          BK TECHNOLOGIES CORP  31DEC2019   2019     37.940     14.664   \n",
       "9    AE  ADAMS RESOURCES & ENERGY INC  31DEC2019   2019    330.842    179.201   \n",
       "\n",
       "         teq       revt        ni  exchg  \n",
       "0    902.600   2089.300     4.400     11  \n",
       "1   -118.000  45768.000  1686.000     14  \n",
       "2    193.017    341.869    17.707     14  \n",
       "3    285.879      2.371    91.431     11  \n",
       "4   5553.188   3471.209   538.320     11  \n",
       "5   1737.259   3947.656    31.472     11  \n",
       "6  31301.000  31904.000  3687.000     11  \n",
       "7     55.705    142.457     5.514     12  \n",
       "8     23.276     40.100    -2.636     12  \n",
       "9    151.641   1811.247     8.207     12  "
      ]
     },
     "execution_count": 18,
     "metadata": {},
     "output_type": "execute_result"
    }
   ],
   "source": [
    "df.head(10)"
   ]
  },
  {
   "cell_type": "code",
   "execution_count": 7,
   "metadata": {},
   "outputs": [
    {
     "data": {
      "text/plain": [
       "<bound method NDFrame.describe of        tic                          conm   datadate  fyear         at  \\\n",
       "0      AIR                      AAR CORP  31MAY2020   2019   2079.000   \n",
       "1      AAL   AMERICAN AIRLINES GROUP INC  31DEC2019   2019  59995.000   \n",
       "2     CECE       CECO ENVIRONMENTAL CORP  31DEC2019   2019    408.637   \n",
       "3      ASA  ASA GOLD AND PRECIOUS METALS  30NOV2019   2019    286.612   \n",
       "4      PNW    PINNACLE WEST CAPITAL CORP  31DEC2019   2019  18479.247   \n",
       "...    ...                           ...        ...    ...        ...   \n",
       "4722  RNLX              RENALYTIX AI PLC  30JUN2019   2019      9.700   \n",
       "4723  CTRM           CASTOR MARITIME INC  31DEC2019   2019     30.421   \n",
       "4724  IMUX                   IMMUNIC INC  31DEC2019   2019     65.955   \n",
       "4725  ARMP    ARMATA PHARMACEUTICALS INC  31DEC2019   2019     25.451   \n",
       "4726   PSV   HERMITAGE OFFSHORE SERVICES  31DEC2019   2019    201.909   \n",
       "\n",
       "             lt       teq       revt        ni  exchg  \n",
       "0      1176.400   902.600   2089.300     4.400     11  \n",
       "1     60113.000  -118.000  45768.000  1686.000     14  \n",
       "2       215.620   193.017    341.869    17.707     14  \n",
       "3         0.733   285.879      2.371    91.431     11  \n",
       "4     12926.059  5553.188   3471.209   538.320     11  \n",
       "...         ...       ...        ...       ...    ...  \n",
       "4722      1.149     8.551      0.000   -42.301     14  \n",
       "4723     17.217    13.204      5.968     1.088     14  \n",
       "4724      7.592    58.363      0.000   -34.933     14  \n",
       "4725     10.858    14.593      0.000   -19.479     12  \n",
       "4726    149.781    52.128     41.813   -19.116     11  \n",
       "\n",
       "[4727 rows x 10 columns]>"
      ]
     },
     "execution_count": 7,
     "metadata": {},
     "output_type": "execute_result"
    }
   ],
   "source": [
    "df.describe"
   ]
  },
  {
   "cell_type": "code",
   "execution_count": 8,
   "metadata": {},
   "outputs": [
    {
     "data": {
      "text/plain": [
       "<bound method DataFrame.info of        tic                          conm   datadate  fyear         at  \\\n",
       "0      AIR                      AAR CORP  31MAY2020   2019   2079.000   \n",
       "1      AAL   AMERICAN AIRLINES GROUP INC  31DEC2019   2019  59995.000   \n",
       "2     CECE       CECO ENVIRONMENTAL CORP  31DEC2019   2019    408.637   \n",
       "3      ASA  ASA GOLD AND PRECIOUS METALS  30NOV2019   2019    286.612   \n",
       "4      PNW    PINNACLE WEST CAPITAL CORP  31DEC2019   2019  18479.247   \n",
       "...    ...                           ...        ...    ...        ...   \n",
       "4722  RNLX              RENALYTIX AI PLC  30JUN2019   2019      9.700   \n",
       "4723  CTRM           CASTOR MARITIME INC  31DEC2019   2019     30.421   \n",
       "4724  IMUX                   IMMUNIC INC  31DEC2019   2019     65.955   \n",
       "4725  ARMP    ARMATA PHARMACEUTICALS INC  31DEC2019   2019     25.451   \n",
       "4726   PSV   HERMITAGE OFFSHORE SERVICES  31DEC2019   2019    201.909   \n",
       "\n",
       "             lt       teq       revt        ni  exchg  \n",
       "0      1176.400   902.600   2089.300     4.400     11  \n",
       "1     60113.000  -118.000  45768.000  1686.000     14  \n",
       "2       215.620   193.017    341.869    17.707     14  \n",
       "3         0.733   285.879      2.371    91.431     11  \n",
       "4     12926.059  5553.188   3471.209   538.320     11  \n",
       "...         ...       ...        ...       ...    ...  \n",
       "4722      1.149     8.551      0.000   -42.301     14  \n",
       "4723     17.217    13.204      5.968     1.088     14  \n",
       "4724      7.592    58.363      0.000   -34.933     14  \n",
       "4725     10.858    14.593      0.000   -19.479     12  \n",
       "4726    149.781    52.128     41.813   -19.116     11  \n",
       "\n",
       "[4727 rows x 10 columns]>"
      ]
     },
     "execution_count": 8,
     "metadata": {},
     "output_type": "execute_result"
    }
   ],
   "source": [
    "df.info"
   ]
  },
  {
   "cell_type": "code",
   "execution_count": 9,
   "metadata": {},
   "outputs": [
    {
     "data": {
      "text/plain": [
       "tic          object\n",
       "conm         object\n",
       "datadate     object\n",
       "fyear         int64\n",
       "at          float64\n",
       "lt          float64\n",
       "teq         float64\n",
       "revt        float64\n",
       "ni          float64\n",
       "exchg         int64\n",
       "dtype: object"
      ]
     },
     "execution_count": 9,
     "metadata": {},
     "output_type": "execute_result"
    }
   ],
   "source": [
    "df.dtypes"
   ]
  },
  {
   "cell_type": "code",
   "execution_count": 13,
   "metadata": {},
   "outputs": [
    {
     "data": {
      "text/plain": [
       "tic\n",
       "A       1\n",
       "ONTO    1\n",
       "OPRX    1\n",
       "OPRT    1\n",
       "OPRA    1\n",
       "       ..\n",
       "FEIM    1\n",
       "FEDU    1\n",
       "FE      1\n",
       "FDX     1\n",
       "ZYXI    1\n",
       "Name: count, Length: 4727, dtype: int64"
      ]
     },
     "execution_count": 13,
     "metadata": {},
     "output_type": "execute_result"
    }
   ],
   "source": [
    "df.value_counts(\"tic\")"
   ]
  },
  {
   "cell_type": "code",
   "execution_count": 17,
   "metadata": {},
   "outputs": [
    {
     "ename": "AttributeError",
     "evalue": "'DataFrame' object has no attribute 'plthist'",
     "output_type": "error",
     "traceback": [
      "\u001b[0;31m---------------------------------------------------------------------------\u001b[0m",
      "\u001b[0;31mAttributeError\u001b[0m                            Traceback (most recent call last)",
      "\u001b[0;32m/var/folders/x8/fqk_hz6j4x1f9s70rdmxj0d00000gn/T/ipykernel_34718/4129644824.py\u001b[0m in \u001b[0;36m?\u001b[0;34m()\u001b[0m\n\u001b[0;32m----> 1\u001b[0;31m \u001b[0mdf\u001b[0m\u001b[0;34m.\u001b[0m\u001b[0mplthist\u001b[0m\u001b[0;34m(\u001b[0m\u001b[0;34m)\u001b[0m\u001b[0;34m\u001b[0m\u001b[0;34m\u001b[0m\u001b[0m\n\u001b[0m",
      "\u001b[0;32m~/anaconda3/lib/python3.11/site-packages/pandas/core/generic.py\u001b[0m in \u001b[0;36m?\u001b[0;34m(self, name)\u001b[0m\n\u001b[1;32m   5985\u001b[0m             \u001b[0;32mand\u001b[0m \u001b[0mname\u001b[0m \u001b[0;32mnot\u001b[0m \u001b[0;32min\u001b[0m \u001b[0mself\u001b[0m\u001b[0;34m.\u001b[0m\u001b[0m_accessors\u001b[0m\u001b[0;34m\u001b[0m\u001b[0;34m\u001b[0m\u001b[0m\n\u001b[1;32m   5986\u001b[0m             \u001b[0;32mand\u001b[0m \u001b[0mself\u001b[0m\u001b[0;34m.\u001b[0m\u001b[0m_info_axis\u001b[0m\u001b[0;34m.\u001b[0m\u001b[0m_can_hold_identifiers_and_holds_name\u001b[0m\u001b[0;34m(\u001b[0m\u001b[0mname\u001b[0m\u001b[0;34m)\u001b[0m\u001b[0;34m\u001b[0m\u001b[0;34m\u001b[0m\u001b[0m\n\u001b[1;32m   5987\u001b[0m         ):\n\u001b[1;32m   5988\u001b[0m             \u001b[0;32mreturn\u001b[0m \u001b[0mself\u001b[0m\u001b[0;34m[\u001b[0m\u001b[0mname\u001b[0m\u001b[0;34m]\u001b[0m\u001b[0;34m\u001b[0m\u001b[0;34m\u001b[0m\u001b[0m\n\u001b[0;32m-> 5989\u001b[0;31m         \u001b[0;32mreturn\u001b[0m \u001b[0mobject\u001b[0m\u001b[0;34m.\u001b[0m\u001b[0m__getattribute__\u001b[0m\u001b[0;34m(\u001b[0m\u001b[0mself\u001b[0m\u001b[0;34m,\u001b[0m \u001b[0mname\u001b[0m\u001b[0;34m)\u001b[0m\u001b[0;34m\u001b[0m\u001b[0;34m\u001b[0m\u001b[0m\n\u001b[0m",
      "\u001b[0;31mAttributeError\u001b[0m: 'DataFrame' object has no attribute 'plthist'"
     ]
    }
   ],
   "source": [
    "df.plthist()"
   ]
  },
  {
   "cell_type": "code",
   "execution_count": null,
   "metadata": {},
   "outputs": [],
   "source": []
  },
  {
   "cell_type": "code",
   "execution_count": null,
   "metadata": {},
   "outputs": [],
   "source": []
  },
  {
   "cell_type": "code",
   "execution_count": null,
   "metadata": {},
   "outputs": [],
   "source": []
  },
  {
   "cell_type": "code",
   "execution_count": null,
   "metadata": {},
   "outputs": [],
   "source": []
  },
  {
   "cell_type": "code",
   "execution_count": null,
   "metadata": {},
   "outputs": [],
   "source": []
  },
  {
   "cell_type": "code",
   "execution_count": null,
   "metadata": {},
   "outputs": [],
   "source": []
  }
 ],
 "metadata": {
  "kernelspec": {
   "display_name": "Python 3 (ipykernel)",
   "language": "python",
   "name": "python3"
  },
  "language_info": {
   "codemirror_mode": {
    "name": "ipython",
    "version": 3
   },
   "file_extension": ".py",
   "mimetype": "text/x-python",
   "name": "python",
   "nbconvert_exporter": "python",
   "pygments_lexer": "ipython3",
   "version": "3.11.5"
  },
  "vscode": {
   "interpreter": {
    "hash": "de8ef6c1b05ccb732b5e043e1910d3a5de2ecb4b6ab8b2f3d0e289cc971fd320"
   }
  }
 },
 "nbformat": 4,
 "nbformat_minor": 2
}
