{
 "cells": [
  {
   "cell_type": "markdown",
   "metadata": {},
   "source": [
    "# Tech Class #8 - Summary Statistics"
   ]
  },
  {
   "cell_type": "markdown",
   "metadata": {},
   "source": [
    "- This file provides an overview of how to use Python to generate Summary Statistics.\n",
    "- Summary Statistics are also referred to as Descriptive Statistics.\n",
    "- These statistics are the typical ones that you have learned in math classes: mean (average), median (50th percentile), standard deviation, etc."
   ]
  },
  {
   "cell_type": "markdown",
   "metadata": {},
   "source": [
    "**Import pandas package and loading two datasets**"
   ]
  },
  {
   "cell_type": "code",
   "execution_count": 1,
   "metadata": {},
   "outputs": [],
   "source": [
    "import pandas as pd"
   ]
  },
  {
   "cell_type": "markdown",
   "metadata": {},
   "source": [
    "**Import data that we need**"
   ]
  },
  {
   "cell_type": "code",
   "execution_count": 2,
   "metadata": {},
   "outputs": [
    {
     "name": "stderr",
     "output_type": "stream",
     "text": [
      "/var/folders/x8/fqk_hz6j4x1f9s70rdmxj0d00000gn/T/ipykernel_48895/1121397560.py:1: UserWarning: Could not infer format, so each element will be parsed individually, falling back to `dateutil`. To ensure parsing is consistent and as-expected, please specify a format.\n",
      "  df2018 = pd.read_csv(\"Compustat_fy2018.csv\", parse_dates=['datadate'])\n"
     ]
    }
   ],
   "source": [
    "df2018 = pd.read_csv(\"Compustat_fy2018.csv\", parse_dates=['datadate'])"
   ]
  },
  {
   "cell_type": "markdown",
   "metadata": {},
   "source": [
    "**Create variables (measures) we need**"
   ]
  },
  {
   "cell_type": "code",
   "execution_count": 3,
   "metadata": {},
   "outputs": [],
   "source": [
    "#ROE = net income / total equities\n",
    "df2018['roe'] = df2018['ni'] / df2018['teq']\n",
    "\n",
    "#ATurn = Revenue / total assets\n",
    "df2018['aturn'] = df2018['revt'] / df2018['at']\n"
   ]
  },
  {
   "cell_type": "markdown",
   "metadata": {},
   "source": [
    "---\n",
    "## What we know so far - the describe command\n",
    "```Python\n",
    "df2018.describe()\n",
    "```\n",
    "- This command is an quick way to return releavant summary statistics including the number of observations (count), the average (mean), the standard deviation (std), the minimum (min), the maximum (max), and the values at different percentiles.\n",
    "- This is extraordinarily helpful since it is all in one place, so it's a good first place to start.\n",
    "- Running this command in the way above means it will run over your entire dataframe, and returns summary statistics about all **numeric** variables (columns)."
   ]
  },
  {
   "cell_type": "code",
   "execution_count": null,
   "metadata": {},
   "outputs": [],
   "source": []
  },
  {
   "cell_type": "markdown",
   "metadata": {},
   "source": [
    "### Specify individual columns and individual statistics\n",
    "- Remember, we can select just one column like:\n",
    "```Python\n",
    "df2018['roe']\n",
    "```\n",
    "- You can select one descriptive statistic by specifying the statistic you want at the end. Here are some common ones: ```.mean()```, ```.median()```, ```.std()```, ```.quantile(<perc>)```, ```.count()```, ```.sum()```\n",
    "- Combining these two would get you something like:\n",
    "```Python\n",
    "df2018['roe'].sum()\n",
    "```"
   ]
  },
  {
   "cell_type": "code",
   "execution_count": null,
   "metadata": {},
   "outputs": [],
   "source": []
  },
  {
   "cell_type": "markdown",
   "metadata": {},
   "source": [
    "#### From Assignment 1, we now know we can filter our dataframe and run describe on just the smaller dataframe\n",
    "```Python\n",
    "df2018[df2018['sic']==3711]\n",
    "```\n",
    "Then you can run the describe command on the smaller subset of data."
   ]
  },
  {
   "cell_type": "code",
   "execution_count": null,
   "metadata": {},
   "outputs": [],
   "source": []
  },
  {
   "cell_type": "code",
   "execution_count": null,
   "metadata": {},
   "outputs": [],
   "source": [
    "#Remember: you can also save the results of your filter into a new dataframe to work with later"
   ]
  },
  {
   "cell_type": "markdown",
   "metadata": {},
   "source": [
    "### But, what if you want to create an industry adjusted measure for ALL companies in df2018?\n",
    "- Doing this comparison by hand is time consuming. \n",
    "- Writing a loop to go through every SIC code is also time consuming."
   ]
  },
  {
   "cell_type": "markdown",
   "metadata": {},
   "source": [
    "## The groupby command\n",
    "- If we want to find the average value of ROE and ATurn for every industry in our dataframe\n",
    "```Python\n",
    "df2018[['sic','roe','aturn']].groupby('sic').mean()\n",
    "```\n",
    "- First, limit your dataframe to the group identifier (for this example SIC code) and to the variables you want a summary statistic for (ROE and Aturn in this case).\n",
    "- Second, include the ```.groupby``` command with your group identifier.\n",
    "- Third, specify the summary statistic you would like. Here are some common ones: ```.mean()```, ```.median()```, ```.std()```, ```.quantile(<perc>)```, ```.count()```, ```.sum()```\n",
    "- This groupby command is \"collapsing\" your data, meaning it's taking your bigger dataframe and collapsing it along the dimension of SIC."
   ]
  },
  {
   "cell_type": "code",
   "execution_count": null,
   "metadata": {},
   "outputs": [],
   "source": []
  },
  {
   "cell_type": "markdown",
   "metadata": {},
   "source": [
    "**As long as you save this output to a dataframe, you can then merge it back into your original data.**\n",
    "```Python\n",
    "df_merge1 = pd.merge(df2018, df_indavgs, how=\"left\", on=\"sic\", suffixes=('','_indavg'))\n",
    "```\n",
    "- Same merge command as before.\n",
    "- We have introduced a new option since the variables ```roe``` and ```aturn``` exist in both dataframes. Including the ```suffixes=('','_indavg')``` option will add the text `_indavg` to the variables being merged in from the secondary dataframe."
   ]
  },
  {
   "cell_type": "code",
   "execution_count": null,
   "metadata": {},
   "outputs": [],
   "source": []
  },
  {
   "cell_type": "code",
   "execution_count": null,
   "metadata": {},
   "outputs": [],
   "source": []
  },
  {
   "cell_type": "markdown",
   "metadata": {},
   "source": [
    "**Now you can create your industry adjusted measures just like any other new variable**\n",
    "- Industry adjusted means you take your individual company value for your variable and subtract the industry average of that variable.\n",
    "```Python\n",
    "df_merge1['adj_roe'] = df_merge1['roe'] - df_merge1['roe_indavg']\n",
    "```"
   ]
  },
  {
   "cell_type": "code",
   "execution_count": null,
   "metadata": {},
   "outputs": [],
   "source": []
  },
  {
   "cell_type": "code",
   "execution_count": null,
   "metadata": {},
   "outputs": [],
   "source": []
  },
  {
   "cell_type": "code",
   "execution_count": null,
   "metadata": {},
   "outputs": [],
   "source": []
  }
 ],
 "metadata": {
  "kernelspec": {
   "display_name": "Python 3 (ipykernel)",
   "language": "python",
   "name": "python3"
  },
  "language_info": {
   "codemirror_mode": {
    "name": "ipython",
    "version": 3
   },
   "file_extension": ".py",
   "mimetype": "text/x-python",
   "name": "python",
   "nbconvert_exporter": "python",
   "pygments_lexer": "ipython3",
   "version": "3.11.5"
  }
 },
 "nbformat": 4,
 "nbformat_minor": 2
}
