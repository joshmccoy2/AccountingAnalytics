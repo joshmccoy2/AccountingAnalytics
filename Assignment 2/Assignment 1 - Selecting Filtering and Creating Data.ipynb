{
 "cells": [
  {
   "cell_type": "markdown",
   "metadata": {},
   "source": [
    "## Assignment 1: Python group project due on Wednesday Feb. 7th @ 8AM\n",
    "Use this notebook perform the following analyses using Python code and the **2018** compustat file. For the following questions, please write your answers to each question in the Canvas textbox. \n",
    "\n",
    "The code down below should support the answers you indicated; the code should be in an easy to follow format with comments to indicate what question you are trying to answer and what your code is accomplishing. You can also use MarkDown cells if you prefer that over commenting (you can read the tips on how to create markdown cells at the bottom of this file if you wish).\n",
    "\n",
    "After you finish the analyses, please **make sure every cell is executed and all the returning results are presented**. Then you can save the file and submit it to Canvas by uploading it to the textbox like our first in-class assignment. **Each group only has to submit one file but everyone should make sure they are able to write and run the code.**\n",
    "\n",
    "### Questions\n",
    "- 1. Describe the dataset, *Compustat_fy2018.csv*, specifically identify:\n",
    "    - How many observations are there? (1 point)\n",
    "    - How many variables are there? (1 point)\n",
    "    - What are the names of those variables? (1 point)\n",
    "\n",
    "- 2. Now for Q2 and Q3, we will be performing an analysis about General Motors Co. (GM) to see whether it outperformed its industry during 2018. First, we need to find the SIC industry code for General Motors Co. (tic == 'GM'). **What is the SIC industry code for GM?** (2 points)\n",
    "    \n",
    "- 3. (6 points) Since performance is a construct (i.e., a concept), we pick two common measures that capture performance: Return on Equity and Asset Turnover Ratio. Calculate these two measures using the definition below and answer: did GM outperform its industry **average** (mean) in fiscal year 2018 for each of the following two measures?\n",
    "    - Return on Equity, ROE: (net income /  total equity)\n",
    "    - Asset turnover ratio: (revenue / total assets)\n",
    "    \n",
    "    *hints:*\n",
    "    - *the only command we know so far that gives us an average is describe*\n",
    "    - *Once you find GM's industry code, how can we limit our dataframe to just companies with the same SIC code (including GM)? Then, how can we find the average of our new variables?*\n",
    "    - *You should include GM in the industry average.*\n",
    "\n",
    "**Remember to specify your answers in the textbox below and then upload your saved and executed Jupyter Notebook to the Canvas textbox to support your answers (14 points)**"
   ]
  },
  {
   "cell_type": "markdown",
   "metadata": {},
   "source": [
    "### Reference: Variable Definitions for the 2018 Compustat file\n",
    "Variable Definitions in the unaltered Compustat_fy2018.csv file:\n",
    "- tic (ticker symbol)\n",
    "- conm (company name)\n",
    "- datadate (fiscal year end)\n",
    "- fyear (fiscal year)\n",
    "- at (total assets)\n",
    "- lt (total liabilities)\n",
    "- teq (total equities)\n",
    "- revt (revenue)\n",
    "- ni (net income)\n",
    "- exchg (numeric exchange code; 11 = New York Stock Exchange; 12 = American Stock Exchange; 14 = NASDAQ)\n",
    "- sic (Industry classification code)"
   ]
  },
  {
   "cell_type": "markdown",
   "metadata": {},
   "source": [
    "### Tips: \n",
    "### How to create and write in Markdown cells\n",
    "- Create a new cell by clicking on the plus icon in the menu (second icon next to the \"save\" one).\n",
    "- Select \"Markdown\" instead of \"Code\" in the drop-down menu next to the last icon (a small keyboard).\n",
    "- You can type any of your explanatory texts in the markdown cells. After you finish typing, you can run the cell to have the texts presented.\n",
    "- Markdown is a lightweight coding language that you can use to create rich texts with different formats and sizes. If you want to know the basic language structure, you can go to this [website](https://commonmark.org/help/).\n",
    "\n",
    "### Command keyboard shortcuts\n",
    "- There are keyboard shortcuts for major commands, such as creating a new cell, entering the edit mode, and running the cell. You can check those shortcuts by clicking on the small keyboard icon on the far right of the menu."
   ]
  },
  {
   "cell_type": "code",
   "execution_count": 5,
   "metadata": {},
   "outputs": [
    {
     "data": {
      "text/html": [
       "<div>\n",
       "<style scoped>\n",
       "    .dataframe tbody tr th:only-of-type {\n",
       "        vertical-align: middle;\n",
       "    }\n",
       "\n",
       "    .dataframe tbody tr th {\n",
       "        vertical-align: top;\n",
       "    }\n",
       "\n",
       "    .dataframe thead th {\n",
       "        text-align: right;\n",
       "    }\n",
       "</style>\n",
       "<table border=\"1\" class=\"dataframe\">\n",
       "  <thead>\n",
       "    <tr style=\"text-align: right;\">\n",
       "      <th></th>\n",
       "      <th>tic</th>\n",
       "      <th>conm</th>\n",
       "      <th>datadate</th>\n",
       "      <th>fyear</th>\n",
       "      <th>at</th>\n",
       "      <th>lt</th>\n",
       "      <th>teq</th>\n",
       "      <th>revt</th>\n",
       "      <th>ni</th>\n",
       "      <th>exchg</th>\n",
       "      <th>sic</th>\n",
       "    </tr>\n",
       "  </thead>\n",
       "  <tbody>\n",
       "    <tr>\n",
       "      <th>0</th>\n",
       "      <td>AIR</td>\n",
       "      <td>AAR CORP</td>\n",
       "      <td>31MAY2019</td>\n",
       "      <td>2018</td>\n",
       "      <td>1517.200</td>\n",
       "      <td>611.300</td>\n",
       "      <td>905.900</td>\n",
       "      <td>2051.800</td>\n",
       "      <td>7.500</td>\n",
       "      <td>11.0</td>\n",
       "      <td>5080.0</td>\n",
       "    </tr>\n",
       "    <tr>\n",
       "      <th>1</th>\n",
       "      <td>AAL</td>\n",
       "      <td>AMERICAN AIRLINES GROUP INC</td>\n",
       "      <td>31DEC2018</td>\n",
       "      <td>2018</td>\n",
       "      <td>60580.000</td>\n",
       "      <td>60749.000</td>\n",
       "      <td>-169.000</td>\n",
       "      <td>44541.000</td>\n",
       "      <td>1412.000</td>\n",
       "      <td>14.0</td>\n",
       "      <td>4512.0</td>\n",
       "    </tr>\n",
       "    <tr>\n",
       "      <th>2</th>\n",
       "      <td>CECE</td>\n",
       "      <td>CECO ENVIRONMENTAL CORP</td>\n",
       "      <td>31DEC2018</td>\n",
       "      <td>2018</td>\n",
       "      <td>392.582</td>\n",
       "      <td>214.022</td>\n",
       "      <td>178.560</td>\n",
       "      <td>337.339</td>\n",
       "      <td>-7.121</td>\n",
       "      <td>14.0</td>\n",
       "      <td>3564.0</td>\n",
       "    </tr>\n",
       "    <tr>\n",
       "      <th>3</th>\n",
       "      <td>ASA</td>\n",
       "      <td>ASA GOLD AND PRECIOUS METALS</td>\n",
       "      <td>30NOV2018</td>\n",
       "      <td>2018</td>\n",
       "      <td>196.072</td>\n",
       "      <td>1.238</td>\n",
       "      <td>194.834</td>\n",
       "      <td>1.629</td>\n",
       "      <td>-48.789</td>\n",
       "      <td>11.0</td>\n",
       "      <td>6799.0</td>\n",
       "    </tr>\n",
       "    <tr>\n",
       "      <th>4</th>\n",
       "      <td>PNW</td>\n",
       "      <td>PINNACLE WEST CAPITAL CORP</td>\n",
       "      <td>31DEC2018</td>\n",
       "      <td>2018</td>\n",
       "      <td>17664.202</td>\n",
       "      <td>12315.497</td>\n",
       "      <td>5348.705</td>\n",
       "      <td>3691.247</td>\n",
       "      <td>511.047</td>\n",
       "      <td>11.0</td>\n",
       "      <td>4911.0</td>\n",
       "    </tr>\n",
       "    <tr>\n",
       "      <th>...</th>\n",
       "      <td>...</td>\n",
       "      <td>...</td>\n",
       "      <td>...</td>\n",
       "      <td>...</td>\n",
       "      <td>...</td>\n",
       "      <td>...</td>\n",
       "      <td>...</td>\n",
       "      <td>...</td>\n",
       "      <td>...</td>\n",
       "      <td>...</td>\n",
       "      <td>...</td>\n",
       "    </tr>\n",
       "    <tr>\n",
       "      <th>4640</th>\n",
       "      <td>GRIN</td>\n",
       "      <td>GRINDROD SHIPPING</td>\n",
       "      <td>31DEC2018</td>\n",
       "      <td>2018</td>\n",
       "      <td>447.627</td>\n",
       "      <td>155.124</td>\n",
       "      <td>292.503</td>\n",
       "      <td>319.018</td>\n",
       "      <td>-20.640</td>\n",
       "      <td>14.0</td>\n",
       "      <td>4412.0</td>\n",
       "    </tr>\n",
       "    <tr>\n",
       "      <th>4641</th>\n",
       "      <td>CALT</td>\n",
       "      <td>CALLIDITAS THERAPE</td>\n",
       "      <td>31DEC2018</td>\n",
       "      <td>2018</td>\n",
       "      <td>72.962</td>\n",
       "      <td>3.403</td>\n",
       "      <td>69.559</td>\n",
       "      <td>0.000</td>\n",
       "      <td>-14.859</td>\n",
       "      <td>14.0</td>\n",
       "      <td>2834.0</td>\n",
       "    </tr>\n",
       "    <tr>\n",
       "      <th>4642</th>\n",
       "      <td>NMCI</td>\n",
       "      <td>NAVIOS MARITIME CONTAINERS</td>\n",
       "      <td>31DEC2018</td>\n",
       "      <td>2018</td>\n",
       "      <td>413.527</td>\n",
       "      <td>231.054</td>\n",
       "      <td>182.473</td>\n",
       "      <td>133.921</td>\n",
       "      <td>12.700</td>\n",
       "      <td>14.0</td>\n",
       "      <td>4412.0</td>\n",
       "    </tr>\n",
       "    <tr>\n",
       "      <th>4643</th>\n",
       "      <td>ACA</td>\n",
       "      <td>ARCOSA INC</td>\n",
       "      <td>31DEC2018</td>\n",
       "      <td>2018</td>\n",
       "      <td>2172.200</td>\n",
       "      <td>487.700</td>\n",
       "      <td>1684.500</td>\n",
       "      <td>1460.400</td>\n",
       "      <td>75.700</td>\n",
       "      <td>11.0</td>\n",
       "      <td>3440.0</td>\n",
       "    </tr>\n",
       "    <tr>\n",
       "      <th>4644</th>\n",
       "      <td>CTRM</td>\n",
       "      <td>CASTOR MARITIME INC</td>\n",
       "      <td>30SEP2018</td>\n",
       "      <td>2018</td>\n",
       "      <td>9.624</td>\n",
       "      <td>0.149</td>\n",
       "      <td>9.475</td>\n",
       "      <td>3.961</td>\n",
       "      <td>0.981</td>\n",
       "      <td>14.0</td>\n",
       "      <td>4412.0</td>\n",
       "    </tr>\n",
       "  </tbody>\n",
       "</table>\n",
       "<p>4645 rows × 11 columns</p>\n",
       "</div>"
      ],
      "text/plain": [
       "       tic                          conm   datadate  fyear         at  \\\n",
       "0      AIR                      AAR CORP  31MAY2019   2018   1517.200   \n",
       "1      AAL   AMERICAN AIRLINES GROUP INC  31DEC2018   2018  60580.000   \n",
       "2     CECE       CECO ENVIRONMENTAL CORP  31DEC2018   2018    392.582   \n",
       "3      ASA  ASA GOLD AND PRECIOUS METALS  30NOV2018   2018    196.072   \n",
       "4      PNW    PINNACLE WEST CAPITAL CORP  31DEC2018   2018  17664.202   \n",
       "...    ...                           ...        ...    ...        ...   \n",
       "4640  GRIN             GRINDROD SHIPPING  31DEC2018   2018    447.627   \n",
       "4641  CALT            CALLIDITAS THERAPE  31DEC2018   2018     72.962   \n",
       "4642  NMCI    NAVIOS MARITIME CONTAINERS  31DEC2018   2018    413.527   \n",
       "4643   ACA                    ARCOSA INC  31DEC2018   2018   2172.200   \n",
       "4644  CTRM           CASTOR MARITIME INC  30SEP2018   2018      9.624   \n",
       "\n",
       "             lt       teq       revt        ni  exchg     sic  \n",
       "0       611.300   905.900   2051.800     7.500   11.0  5080.0  \n",
       "1     60749.000  -169.000  44541.000  1412.000   14.0  4512.0  \n",
       "2       214.022   178.560    337.339    -7.121   14.0  3564.0  \n",
       "3         1.238   194.834      1.629   -48.789   11.0  6799.0  \n",
       "4     12315.497  5348.705   3691.247   511.047   11.0  4911.0  \n",
       "...         ...       ...        ...       ...    ...     ...  \n",
       "4640    155.124   292.503    319.018   -20.640   14.0  4412.0  \n",
       "4641      3.403    69.559      0.000   -14.859   14.0  2834.0  \n",
       "4642    231.054   182.473    133.921    12.700   14.0  4412.0  \n",
       "4643    487.700  1684.500   1460.400    75.700   11.0  3440.0  \n",
       "4644      0.149     9.475      3.961     0.981   14.0  4412.0  \n",
       "\n",
       "[4645 rows x 11 columns]"
      ]
     },
     "execution_count": 5,
     "metadata": {},
     "output_type": "execute_result"
    }
   ],
   "source": [
    "import pandas as pd\n",
    "df = pd.read_csv('Compustat_fy2018.csv')\n",
    "df"
   ]
  },
  {
   "cell_type": "code",
   "execution_count": 12,
   "metadata": {},
   "outputs": [
    {
     "data": {
      "text/plain": [
       "4645"
      ]
     },
     "execution_count": 12,
     "metadata": {},
     "output_type": "execute_result"
    }
   ],
   "source": [
    "num_observations = len(df)\n",
    "num_observations"
   ]
  },
  {
   "cell_type": "code",
   "execution_count": 13,
   "metadata": {},
   "outputs": [
    {
     "data": {
      "text/plain": [
       "11"
      ]
     },
     "execution_count": 13,
     "metadata": {},
     "output_type": "execute_result"
    }
   ],
   "source": [
    "num_variables = df.shape[1]\n",
    "num_variables"
   ]
  },
  {
   "cell_type": "markdown",
   "metadata": {},
   "source": [
    "As we see from just saying df - there are 4645 observations and 11 variables "
   ]
  },
  {
   "cell_type": "code",
   "execution_count": 15,
   "metadata": {},
   "outputs": [
    {
     "data": {
      "text/plain": [
       "['tic',\n",
       " 'conm',\n",
       " 'datadate',\n",
       " 'fyear',\n",
       " 'at',\n",
       " 'lt',\n",
       " 'teq',\n",
       " 'revt',\n",
       " 'ni',\n",
       " 'exchg',\n",
       " 'sic']"
      ]
     },
     "execution_count": 15,
     "metadata": {},
     "output_type": "execute_result"
    }
   ],
   "source": [
    "variable_names = df.columns.tolist()\n",
    "variable_names"
   ]
  },
  {
   "cell_type": "markdown",
   "metadata": {},
   "source": [
    "The variable names are\n",
    "\n",
    "['tic',\n",
    " 'conm',\n",
    " 'datadate',\n",
    " 'fyear',\n",
    " 'at',\n",
    " 'lt',\n",
    " 'teq',\n",
    " 'revt',\n",
    " 'ni',\n",
    " 'exchg',\n",
    " 'sic']"
   ]
  },
  {
   "cell_type": "code",
   "execution_count": 18,
   "metadata": {},
   "outputs": [
    {
     "data": {
      "text/plain": [
       "3711.0"
      ]
     },
     "execution_count": 18,
     "metadata": {},
     "output_type": "execute_result"
    }
   ],
   "source": [
    "gm_data = df[df['tic'] == 'GM']\n",
    "gm_sic_code = gm_data['sic'].iloc[0]\n",
    "gm_sic_code"
   ]
  },
  {
   "cell_type": "markdown",
   "metadata": {},
   "source": [
    "GMs sic code is 3711"
   ]
  },
  {
   "cell_type": "code",
   "execution_count": 22,
   "metadata": {},
   "outputs": [
    {
     "data": {
      "text/plain": [
       "8014.0"
      ]
     },
     "execution_count": 22,
     "metadata": {},
     "output_type": "execute_result"
    }
   ],
   "source": [
    "gm_net_income = gm_data['ni'].iloc[0]\n",
    "gm_net_income"
   ]
  },
  {
   "cell_type": "code",
   "execution_count": 23,
   "metadata": {},
   "outputs": [
    {
     "data": {
      "text/plain": [
       "42777.0"
      ]
     },
     "execution_count": 23,
     "metadata": {},
     "output_type": "execute_result"
    }
   ],
   "source": [
    "gm_total_equity = gm_data['teq'].iloc[0]\n",
    "gm_total_equity"
   ]
  },
  {
   "cell_type": "code",
   "execution_count": 24,
   "metadata": {},
   "outputs": [
    {
     "data": {
      "text/plain": [
       "0.18734366598873226"
      ]
     },
     "execution_count": 24,
     "metadata": {},
     "output_type": "execute_result"
    }
   ],
   "source": [
    "gm_roe = gm_net_income / gm_total_equity\n",
    "gm_roe"
   ]
  },
  {
   "cell_type": "markdown",
   "metadata": {},
   "source": [
    "GMs roe is 18.7%"
   ]
  },
  {
   "cell_type": "code",
   "execution_count": 27,
   "metadata": {},
   "outputs": [
    {
     "data": {
      "text/plain": [
       "147049.0"
      ]
     },
     "execution_count": 27,
     "metadata": {},
     "output_type": "execute_result"
    }
   ],
   "source": [
    "gm_revenue = gm_data['revt'].iloc[0]\n",
    "gm_revenue"
   ]
  },
  {
   "cell_type": "code",
   "execution_count": 28,
   "metadata": {},
   "outputs": [
    {
     "data": {
      "text/plain": [
       "227339.0"
      ]
     },
     "execution_count": 28,
     "metadata": {},
     "output_type": "execute_result"
    }
   ],
   "source": [
    "gm_total_assets = gm_data['at'].iloc[0]\n",
    "gm_total_assets"
   ]
  },
  {
   "cell_type": "code",
   "execution_count": 29,
   "metadata": {},
   "outputs": [
    {
     "data": {
      "text/plain": [
       "0.6468269852511008"
      ]
     },
     "execution_count": 29,
     "metadata": {},
     "output_type": "execute_result"
    }
   ],
   "source": [
    "gm_asset_turnover_ratio = gm_revenue / gm_total_assets\n",
    "gm_asset_turnover_ratio"
   ]
  },
  {
   "cell_type": "markdown",
   "metadata": {},
   "source": [
    "GMs asset turnover is 64.7%"
   ]
  },
  {
   "cell_type": "code",
   "execution_count": 36,
   "metadata": {},
   "outputs": [],
   "source": [
    "industry_data = df[df['sic'] == gm_data['sic'].iloc[0]]"
   ]
  },
  {
   "cell_type": "code",
   "execution_count": 37,
   "metadata": {},
   "outputs": [
    {
     "data": {
      "text/plain": [
       "0.090673382825267"
      ]
     },
     "execution_count": 37,
     "metadata": {},
     "output_type": "execute_result"
    }
   ],
   "source": [
    "industry_average_roe = industry_data['ni'].sum() / industry_data['teq'].sum()\n",
    "industry_average_roe"
   ]
  },
  {
   "cell_type": "code",
   "execution_count": 38,
   "metadata": {},
   "outputs": [
    {
     "data": {
      "text/plain": [
       "0.7046699151776161"
      ]
     },
     "execution_count": 38,
     "metadata": {},
     "output_type": "execute_result"
    }
   ],
   "source": [
    "industry_average_asset_turnover_ratio = industry_data['revt'].sum() / industry_data['at'].sum()\n",
    "industry_average_asset_turnover_ratio"
   ]
  },
  {
   "cell_type": "markdown",
   "metadata": {},
   "source": [
    "The industry average for ROE is 9.1%\n",
    "The industry average for asset turnover is 70.5%"
   ]
  },
  {
   "cell_type": "markdown",
   "metadata": {},
   "source": [
    "# Results"
   ]
  },
  {
   "cell_type": "markdown",
   "metadata": {},
   "source": [
    "GM - roe = 18.7%\n",
    "\n",
    "GM - asset turnover = 64.7%"
   ]
  },
  {
   "cell_type": "markdown",
   "metadata": {},
   "source": [
    "Industry Average - roe = 9.1%\n",
    "\n",
    "Industry Average - asset turnover = 70.5%"
   ]
  }
 ],
 "metadata": {
  "kernelspec": {
   "display_name": "Python 3 (ipykernel)",
   "language": "python",
   "name": "python3"
  },
  "language_info": {
   "codemirror_mode": {
    "name": "ipython",
    "version": 3
   },
   "file_extension": ".py",
   "mimetype": "text/x-python",
   "name": "python",
   "nbconvert_exporter": "python",
   "pygments_lexer": "ipython3",
   "version": "3.11.5"
  },
  "vscode": {
   "interpreter": {
    "hash": "ad2bdc8ecc057115af97d19610ffacc2b4e99fae6737bb82f5d7fb13d2f2c186"
   }
  }
 },
 "nbformat": 4,
 "nbformat_minor": 2
}
